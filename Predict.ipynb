{
 "cells": [
  {
   "cell_type": "code",
   "execution_count": null,
   "id": "92aa7403",
   "metadata": {},
   "outputs": [],
   "source": [
    "!pip3 install pymongo"
   ]
  },
  {
   "cell_type": "code",
   "execution_count": 1,
   "id": "8c71c14c",
   "metadata": {},
   "outputs": [],
   "source": [
    "from torchvision import transforms\n",
    "import torchvision\n",
    "import torch\n",
    "import torch.nn as nn\n",
    "import glob\n",
    "import cv2\n",
    "from numpy import argmax\n",
    "from pymongo import MongoClient\n"
   ]
  },
  {
   "cell_type": "code",
   "execution_count": null,
   "id": "4144923e",
   "metadata": {},
   "outputs": [],
   "source": [
    "try:\n",
    "    # Conectar a la db, host y puerto\n",
    "    conn = MongoClient(host='localhost', port=27017)\n",
    "    # Obtener base de datos\n",
    "    db = conn.local\n",
    "except:\n",
    "    pass"
   ]
  },
  {
   "cell_type": "code",
   "execution_count": 2,
   "id": "62a7f423",
   "metadata": {},
   "outputs": [],
   "source": [
    "# Definir modelo\n",
    "class scratch_nn(nn.Module):\n",
    "    def __init__(self):\n",
    "        super().__init__()\n",
    "        self.conv1 = nn.Conv2d(in_channels=3, out_channels=100, kernel_size=5, stride=1, padding=0)\n",
    "        self.conv2 = nn.Conv2d(100, 200, 3, stride=1, padding=0)\n",
    "        self.conv3 = nn.Conv2d(200, 400, 3, stride=1, padding=0)\n",
    "        self.mpool = nn.MaxPool2d(kernel_size=3)\n",
    "        self.relu = nn.ReLU()\n",
    "        self.linear1 = nn.Linear(19600,1024)\n",
    "        self.linear2 = nn.Linear(1024,512)\n",
    "        self.linear3 = nn.Linear(512,7)\n",
    "        self.classifier = nn.Softmax(dim=1)\n",
    "        \n",
    "    def forward(self,x):\n",
    "        x = self.mpool( self.relu(self.conv1(x)) )\n",
    "        x = self.mpool( self.relu(self.conv2(x)) )\n",
    "        x = self.mpool( self.relu(self.conv3(x)) )\n",
    "        x = torch.flatten(x, start_dim=1)\n",
    "        x = self.linear1(x)\n",
    "        x = self.linear2(x)\n",
    "        x = self.linear3(x)\n",
    "        x = self.classifier(x)\n",
    "        return x"
   ]
  },
  {
   "cell_type": "code",
   "execution_count": 3,
   "id": "37810ed5",
   "metadata": {},
   "outputs": [],
   "source": [
    "# Cargar modelo entrenado\n",
    "device = torch.device(\"cuda\" if torch.cuda.is_available() else \"cpu\")\n",
    "model = scratch_nn()\n",
    "model.load_state_dict(torch.load(\"vehicles_model.pth\", map_location=torch.device('cpu')))\n",
    "model.eval()\n",
    "model = model.to(device)"
   ]
  },
  {
   "cell_type": "code",
   "execution_count": 4,
   "id": "31c5fab1",
   "metadata": {},
   "outputs": [],
   "source": [
    "# Definir preprocesados de la imagen\n",
    "data_transform = transforms.Compose([\n",
    "    transforms.ToTensor(),\n",
    "    transforms.Resize((224, 224),antialias=None),\n",
    "])"
   ]
  },
  {
   "cell_type": "code",
   "execution_count": 5,
   "id": "5304dc87",
   "metadata": {},
   "outputs": [],
   "source": [
    "import math\n",
    "def selection(url):\n",
    "    label=open(url, 'r').read()\n",
    "    array=label.split(\"\\n\")\n",
    "    array.pop()\n",
    "    dist=100\n",
    "    for coord in array:\n",
    "        coord=coord.split(\" \")\n",
    "        distaux=math.sqrt((0.5-float(coord[1]))**2+(0.5-float(coord[2]))**2)\n",
    "        if distaux<dist:\n",
    "            dist=distaux\n",
    "            eleccion=coord\n",
    "    return int(eleccion[0])"
   ]
  },
  {
   "attachments": {},
   "cell_type": "markdown",
   "id": "5a497af4",
   "metadata": {},
   "source": [
    "Contabilizamos aciertos y fallos y además cuando haya predicho el acierto como segunda opción ya que nos sirve para estudiar si es bueno el modelo al tener 7 variables entre las que elegir y varios se pueden confundir entre ellos."
   ]
  },
  {
   "cell_type": "code",
   "execution_count": 36,
   "id": "1fd43715",
   "metadata": {},
   "outputs": [
    {
     "name": "stdout",
     "output_type": "stream",
     "text": [
      "Aciertos:  217\n",
      "Casi aciertos:  17\n",
      "Fallos:  233\n"
     ]
    }
   ],
   "source": [
    "# Realizar la prediccion de todas las imagenes en la carpeta\n",
    "aciertos=0\n",
    "casiaciertos=0\n",
    "fallos=0\n",
    "for image_path in glob.glob(\"Practica2/test/images/*.jpg\"):\n",
    "    img_orig = cv2.imread(image_path)\n",
    "    img = data_transform(img_orig).unsqueeze(0).to(device)\n",
    "    outputs = model(img)\n",
    "    outputs = outputs.detach().cpu().numpy()\n",
    "    output = argmax(outputs, axis=1)[0]\n",
    "    label_path=image_path.replace('images','labels').replace(\".jpg\",\".txt\")\n",
    "    label=int(selection(label_path))\n",
    "    outputs2=outputs.tolist()\n",
    "    outputs2[0].pop(output)\n",
    "    output2=argmax(outputs2, axis=1)[0]\n",
    "    if int(output)==label:\n",
    "        aciertos+=1\n",
    "    elif int(output2)==label:\n",
    "        casiaciertos+=1\n",
    "    else:\n",
    "        fallos+=1\n",
    "    #cv2.imshow(\"Predicted label: \"+labels[output], img_orig)\n",
    "    #cv2.waitKey(0)\n",
    "    #cv2.destroyAllWindows()\n",
    "    # Almacenar en base de datos\n",
    "    #try:\n",
    "        #db.data.insert_one({\"path_img\": image_path, \"predicted_label\": labels[output]})\n",
    "    #except:\n",
    "        #pass\n",
    "print(\"Aciertos: \",aciertos)\n",
    "print(\"Casi aciertos: \",casiaciertos)\n",
    "print(\"Fallos: \",fallos)"
   ]
  },
  {
   "cell_type": "code",
   "execution_count": null,
   "id": "ab5df8bf",
   "metadata": {},
   "outputs": [],
   "source": []
  }
 ],
 "metadata": {
  "kernelspec": {
   "display_name": "base",
   "language": "python",
   "name": "python3"
  },
  "language_info": {
   "codemirror_mode": {
    "name": "ipython",
    "version": 3
   },
   "file_extension": ".py",
   "mimetype": "text/x-python",
   "name": "python",
   "nbconvert_exporter": "python",
   "pygments_lexer": "ipython3",
   "version": "3.8.8"
  },
  "vscode": {
   "interpreter": {
    "hash": "2f70c2c6f75f001c2435d8036b6cc1833b789af896ffe22ab30918cedbc10c86"
   }
  }
 },
 "nbformat": 4,
 "nbformat_minor": 5
}
